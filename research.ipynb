{
 "cells": [
  {
   "cell_type": "code",
   "execution_count": 3,
   "metadata": {},
   "outputs": [
    {
     "data": {
      "text/plain": [
       "'SURAJ KUMAR\\nData Science\\n@ksuraj2235@gmail.com ♂phone9340699531\\n♂¶ap-¶arkerRajasthan, India /linkedinsurajkumar2235 /githubSurajKumar2235\\nPROJECT\\nKidney Disease Classiﬁcation –Python .\\n•Developed a comprehensive kidney disease classiﬁcation project uti-\\nlizing the VGG16 model and transfer learning techniques. Employed\\nMLFLOW for robust model monitoring and established a seamless pipeline\\nspanning data ingestion to model evaluation.\\n•Achieved proﬁcient model performance through meticulous implemen-\\ntation and tuning.\\n•This project not only showcased proﬁciency in deep learning method-\\nologies but also demonstrated expertise in leveraging industry-standard\\ntools for eﬃcient model management and evaluation\\nMovie Recommendation System –Python .\\n•Developed a Movie Recommendation System using Python, focusing on\\nfeature selection and classiﬁer optimization. Applied Tf-IDF vectoriza-\\ntion and cosine similarity for accurate recommendations.\\nHouse Price Prediction -Python .\\n•Conducted comprehensive EDA and feature engineering for a House\\nPrice Prediction project. Implemented an ANN-based model, demon-\\nstrating proﬁciency in Python and Machine Learning.\\nCERTIFICATION & ACHIEVEMENTS\\nData Analytic and Visualization - Accenture North Amer-\\nica\\nFORAGE\\nὌ5July 2023 ♂¶ap-¶arkerVirtual\\nSQL (Basic)\\nHackerRank\\nὌ5DECEMBER 2023 ♂¶ap-¶arkerVirtual\\nPython (Basic) - HackerRank\\nHackerRank\\nὌ5DECEMBER 2023 ♂¶ap-¶arkerVirtual\\nIntroduction to Natural Language Processing\\nGreatLearning\\nὌ5DECEMBER 2023 ♂¶ap-¶arkerVirtualOBJECTIVE\\nWith a year immersed in data science, I am\\npassionate about leveraging my strong foun-\\ndation in Python, Machine Learning, and\\nNLP to derive actionable insights from data.\\nI am eager to tackle challenging projects,\\ndeepen my knowledge, and contribute posi-\\ntively to the ﬁeld of data science, with a par-\\nticular interest in predictive modeling and\\ndata integrity.\\nSKILLS\\n•Python, MySQL, Django,REST Framework.\\n•Machine Learning, NLP, ANN, Deep Learning.\\n•Data Scraping, Data Cleansing,\\n•Feature Engineering, Predictive Modeling\\n•Statistics, Probability Distribution.\\n•Postman, Jupyter, Git, Docker.\\nEDUCATION\\nM.Sc. in Computer Science (Big Data\\nAnalytics )\\nCentral University of Rajasthan\\nὌ5Dec. 2022- June 2024 (Pursuing)\\nBachelor of Computer Application\\nIndira Gandhi National Tribal University\\nὌ5July 2019 - July 2022'"
      ]
     },
     "execution_count": 3,
     "metadata": {},
     "output_type": "execute_result"
    }
   ],
   "source": [
    "from langchain_community.document_loaders import PyPDFLoader\n",
    "\n",
    "loader=PyPDFLoader('Suraj_Kumar_Resume1.pdf')\n",
    "\n",
    "\n",
    "Resume_documennt=loader.load()\n",
    "Resume_documennt[0].page_content"
   ]
  },
  {
   "cell_type": "code",
   "execution_count": null,
   "metadata": {},
   "outputs": [],
   "source": []
  }
 ],
 "metadata": {
  "kernelspec": {
   "display_name": "lang",
   "language": "python",
   "name": "python3"
  },
  "language_info": {
   "codemirror_mode": {
    "name": "ipython",
    "version": 3
   },
   "file_extension": ".py",
   "mimetype": "text/x-python",
   "name": "python",
   "nbconvert_exporter": "python",
   "pygments_lexer": "ipython3",
   "version": "3.12.2"
  }
 },
 "nbformat": 4,
 "nbformat_minor": 2
}
